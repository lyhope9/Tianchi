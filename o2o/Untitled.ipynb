{
 "cells": [
  {
   "cell_type": "code",
   "execution_count": 1,
   "metadata": {
    "collapsed": false
   },
   "outputs": [
    {
     "data": {
      "text/html": [
       "<div>\n",
       "<style scoped>\n",
       "    .dataframe tbody tr th:only-of-type {\n",
       "        vertical-align: middle;\n",
       "    }\n",
       "\n",
       "    .dataframe tbody tr th {\n",
       "        vertical-align: top;\n",
       "    }\n",
       "\n",
       "    .dataframe thead th {\n",
       "        text-align: right;\n",
       "    }\n",
       "</style>\n",
       "<table border=\"1\" class=\"dataframe\">\n",
       "  <thead>\n",
       "    <tr style=\"text-align: right;\">\n",
       "      <th></th>\n",
       "      <th>Used</th>\n",
       "      <th>User_Used</th>\n",
       "      <th>User_Cons</th>\n",
       "      <th>User_Coupon</th>\n",
       "      <th>Merchant_Used</th>\n",
       "      <th>Merchant_Cons</th>\n",
       "      <th>Merchant_Coupon</th>\n",
       "      <th>User_Merchant_Used</th>\n",
       "      <th>User_Merchant_Cons</th>\n",
       "      <th>User_Merchant_Coupon</th>\n",
       "      <th>Discount_Man</th>\n",
       "      <th>Discount_Newrate</th>\n",
       "      <th>Distance</th>\n",
       "      <th>Weekday_1</th>\n",
       "      <th>Weekday_2</th>\n",
       "      <th>Weekday_3</th>\n",
       "      <th>Weekday_4</th>\n",
       "      <th>Weekday_5</th>\n",
       "      <th>Weekday_6</th>\n",
       "      <th>Weekday_7</th>\n",
       "    </tr>\n",
       "  </thead>\n",
       "  <tbody>\n",
       "    <tr>\n",
       "      <th>0</th>\n",
       "      <td>0.0</td>\n",
       "      <td>1</td>\n",
       "      <td>2</td>\n",
       "      <td>4</td>\n",
       "      <td>76</td>\n",
       "      <td>1358</td>\n",
       "      <td>15115</td>\n",
       "      <td>1</td>\n",
       "      <td>1</td>\n",
       "      <td>1</td>\n",
       "      <td>150</td>\n",
       "      <td>0.133333</td>\n",
       "      <td>1.0</td>\n",
       "      <td>0</td>\n",
       "      <td>0</td>\n",
       "      <td>0</td>\n",
       "      <td>0</td>\n",
       "      <td>0</td>\n",
       "      <td>1</td>\n",
       "      <td>0</td>\n",
       "    </tr>\n",
       "    <tr>\n",
       "      <th>1</th>\n",
       "      <td>0.0</td>\n",
       "      <td>1</td>\n",
       "      <td>2</td>\n",
       "      <td>4</td>\n",
       "      <td>4</td>\n",
       "      <td>17</td>\n",
       "      <td>39</td>\n",
       "      <td>1</td>\n",
       "      <td>2</td>\n",
       "      <td>3</td>\n",
       "      <td>20</td>\n",
       "      <td>0.050000</td>\n",
       "      <td>0.0</td>\n",
       "      <td>0</td>\n",
       "      <td>0</td>\n",
       "      <td>1</td>\n",
       "      <td>0</td>\n",
       "      <td>0</td>\n",
       "      <td>0</td>\n",
       "      <td>0</td>\n",
       "    </tr>\n",
       "    <tr>\n",
       "      <th>2</th>\n",
       "      <td>0.0</td>\n",
       "      <td>1</td>\n",
       "      <td>2</td>\n",
       "      <td>4</td>\n",
       "      <td>4</td>\n",
       "      <td>17</td>\n",
       "      <td>39</td>\n",
       "      <td>1</td>\n",
       "      <td>2</td>\n",
       "      <td>3</td>\n",
       "      <td>20</td>\n",
       "      <td>0.050000</td>\n",
       "      <td>0.0</td>\n",
       "      <td>0</td>\n",
       "      <td>0</td>\n",
       "      <td>0</td>\n",
       "      <td>0</td>\n",
       "      <td>0</td>\n",
       "      <td>1</td>\n",
       "      <td>0</td>\n",
       "    </tr>\n",
       "    <tr>\n",
       "      <th>3</th>\n",
       "      <td>0.0</td>\n",
       "      <td>1</td>\n",
       "      <td>2</td>\n",
       "      <td>4</td>\n",
       "      <td>4</td>\n",
       "      <td>17</td>\n",
       "      <td>39</td>\n",
       "      <td>1</td>\n",
       "      <td>2</td>\n",
       "      <td>3</td>\n",
       "      <td>20</td>\n",
       "      <td>0.050000</td>\n",
       "      <td>0.0</td>\n",
       "      <td>1</td>\n",
       "      <td>0</td>\n",
       "      <td>0</td>\n",
       "      <td>0</td>\n",
       "      <td>0</td>\n",
       "      <td>0</td>\n",
       "      <td>0</td>\n",
       "    </tr>\n",
       "    <tr>\n",
       "      <th>4</th>\n",
       "      <td>0.0</td>\n",
       "      <td>1</td>\n",
       "      <td>2</td>\n",
       "      <td>4</td>\n",
       "      <td>4</td>\n",
       "      <td>17</td>\n",
       "      <td>39</td>\n",
       "      <td>1</td>\n",
       "      <td>2</td>\n",
       "      <td>3</td>\n",
       "      <td>20</td>\n",
       "      <td>0.050000</td>\n",
       "      <td>0.0</td>\n",
       "      <td>1</td>\n",
       "      <td>0</td>\n",
       "      <td>0</td>\n",
       "      <td>0</td>\n",
       "      <td>0</td>\n",
       "      <td>0</td>\n",
       "      <td>0</td>\n",
       "    </tr>\n",
       "  </tbody>\n",
       "</table>\n",
       "</div>"
      ],
      "text/plain": [
       "   Used  User_Used  User_Cons  User_Coupon  Merchant_Used  Merchant_Cons  \\\n",
       "0   0.0          1          2            4             76           1358   \n",
       "1   0.0          1          2            4              4             17   \n",
       "2   0.0          1          2            4              4             17   \n",
       "3   0.0          1          2            4              4             17   \n",
       "4   0.0          1          2            4              4             17   \n",
       "\n",
       "   Merchant_Coupon  User_Merchant_Used  User_Merchant_Cons  \\\n",
       "0            15115                   1                   1   \n",
       "1               39                   1                   2   \n",
       "2               39                   1                   2   \n",
       "3               39                   1                   2   \n",
       "4               39                   1                   2   \n",
       "\n",
       "   User_Merchant_Coupon  Discount_Man  Discount_Newrate  Distance  Weekday_1  \\\n",
       "0                     1           150          0.133333       1.0          0   \n",
       "1                     3            20          0.050000       0.0          0   \n",
       "2                     3            20          0.050000       0.0          0   \n",
       "3                     3            20          0.050000       0.0          1   \n",
       "4                     3            20          0.050000       0.0          1   \n",
       "\n",
       "   Weekday_2  Weekday_3  Weekday_4  Weekday_5  Weekday_6  Weekday_7  \n",
       "0          0          0          0          0          1          0  \n",
       "1          0          1          0          0          0          0  \n",
       "2          0          0          0          0          1          0  \n",
       "3          0          0          0          0          0          0  \n",
       "4          0          0          0          0          0          0  "
      ]
     },
     "execution_count": 1,
     "metadata": {},
     "output_type": "execute_result"
    }
   ],
   "source": [
    "import numpy as np\n",
    "import pandas as pd\n",
    "from sklearn.ensemble import GradientBoostingClassifier\n",
    "from sklearn.model_selection import train_test_split\n",
    "from sklearn.model_selection import GridSearchCV\n",
    "from sklearn import metrics\n",
    "import warnings\n",
    "warnings.filterwarnings('ignore')\n",
    "\n",
    "all_data = pd.read_csv('part2_all_data.csv')\n",
    "\n",
    "submission = pd.read_csv('ccf_offline_stage1_test_revised.csv')\n",
    "submission = submission[['User_id','Coupon_id','Date_received']]\n",
    "\n",
    "all_data.head()"
   ]
  },
  {
   "cell_type": "code",
   "execution_count": 2,
   "metadata": {
    "collapsed": false
   },
   "outputs": [],
   "source": [
    "train = all_data[all_data['Used'].notnull()]\n",
    "test = all_data[all_data['Used'].isnull()]\n"
   ]
  },
  {
   "cell_type": "code",
   "execution_count": 3,
   "metadata": {
    "collapsed": false
   },
   "outputs": [
    {
     "name": "stdout",
     "output_type": "stream",
     "text": [
      "<class 'pandas.core.frame.DataFrame'>\n",
      "Int64Index: 113640 entries, 1053282 to 1166921\n",
      "Data columns (total 20 columns):\n",
      "Used                    0 non-null float64\n",
      "User_Used               113640 non-null int64\n",
      "User_Cons               113640 non-null int64\n",
      "User_Coupon             113640 non-null int64\n",
      "Merchant_Used           113640 non-null int64\n",
      "Merchant_Cons           113640 non-null int64\n",
      "Merchant_Coupon         113640 non-null int64\n",
      "User_Merchant_Used      113640 non-null int64\n",
      "User_Merchant_Cons      113640 non-null int64\n",
      "User_Merchant_Coupon    113640 non-null int64\n",
      "Discount_Man            113640 non-null int64\n",
      "Discount_Newrate        113640 non-null float64\n",
      "Distance                113640 non-null float64\n",
      "Weekday_1               113640 non-null int64\n",
      "Weekday_2               113640 non-null int64\n",
      "Weekday_3               113640 non-null int64\n",
      "Weekday_4               113640 non-null int64\n",
      "Weekday_5               113640 non-null int64\n",
      "Weekday_6               113640 non-null int64\n",
      "Weekday_7               113640 non-null int64\n",
      "dtypes: float64(3), int64(17)\n",
      "memory usage: 18.2 MB\n"
     ]
    }
   ],
   "source": [
    "test.info()"
   ]
  },
  {
   "cell_type": "code",
   "execution_count": 4,
   "metadata": {
    "collapsed": false
   },
   "outputs": [
    {
     "name": "stdout",
     "output_type": "stream",
     "text": [
      "<class 'pandas.core.frame.DataFrame'>\n",
      "RangeIndex: 113640 entries, 0 to 113639\n",
      "Data columns (total 3 columns):\n",
      "User_id          113640 non-null int64\n",
      "Coupon_id        113640 non-null int64\n",
      "Date_received    113640 non-null int64\n",
      "dtypes: int64(3)\n",
      "memory usage: 2.6 MB\n"
     ]
    }
   ],
   "source": [
    "submission.info()"
   ]
  },
  {
   "cell_type": "code",
   "execution_count": 5,
   "metadata": {
    "collapsed": true
   },
   "outputs": [],
   "source": [
    "X = train.as_matrix()[:,1:]\n",
    "y = train.as_matrix()[:,0]\n",
    "\n",
    "# X_train, X_valid, y_train, y_valid = train_test_split(X, y, test_size=0.4, random_state=9)"
   ]
  },
  {
   "cell_type": "code",
   "execution_count": 6,
   "metadata": {
    "collapsed": false
   },
   "outputs": [],
   "source": [
    "gbm = GradientBoostingClassifier(random_state=9)\n",
    "# gbm.fit(X_train, y_train)\n",
    "# y_pred = gbm.predict(X_valid)\n",
    "# y_prob = gbm.predict_proba(X_valid)[:,1]\n",
    "# print('ACC: %.4g' % metrics.accuracy_score(y_valid, y_pred))\n",
    "# print('AUC SCORE: %f' % metrics.roc_auc_score(y_valid, y_pred))"
   ]
  },
  {
   "cell_type": "code",
   "execution_count": 7,
   "metadata": {
    "collapsed": false
   },
   "outputs": [],
   "source": [
    "# param_test = {'n_estimators':list(range(20,40,10)), 'max_depth':list(range(3,18,5))}\n",
    "# gsearch = GridSearchCV(estimator = gbm, param_grid = param_test, scoring='roc_auc', cv=10)\n",
    "# gsearch.fit(X_train, y_train)\n",
    "# print(gsearch.grid_scores_, gsearch.best_params_, gsearch.best_score_)"
   ]
  },
  {
   "cell_type": "code",
   "execution_count": 8,
   "metadata": {
    "collapsed": false
   },
   "outputs": [
    {
     "data": {
      "text/plain": [
       "GradientBoostingClassifier(criterion='friedman_mse', init=None,\n",
       "              learning_rate=0.1, loss='deviance', max_depth=3,\n",
       "              max_features=None, max_leaf_nodes=None,\n",
       "              min_impurity_decrease=0.0, min_impurity_split=None,\n",
       "              min_samples_leaf=1, min_samples_split=2,\n",
       "              min_weight_fraction_leaf=0.0, n_estimators=100,\n",
       "              presort='auto', random_state=9, subsample=1.0, verbose=0,\n",
       "              warm_start=False)"
      ]
     },
     "execution_count": 8,
     "metadata": {},
     "output_type": "execute_result"
    }
   ],
   "source": [
    "gbm.fit(X,y)\n",
    "\n"
   ]
  },
  {
   "cell_type": "code",
   "execution_count": 9,
   "metadata": {
    "collapsed": true
   },
   "outputs": [],
   "source": [
    "test = test.drop('Used',axis=1)"
   ]
  },
  {
   "cell_type": "code",
   "execution_count": 10,
   "metadata": {
    "collapsed": true
   },
   "outputs": [],
   "source": [
    "y_pred = gbm.predict_proba(test)\n",
    "submission['prob']=y_pred[:,1]\n",
    "submission.to_csv('sub2.csv',index=False,header=False)"
   ]
  },
  {
   "cell_type": "code",
   "execution_count": null,
   "metadata": {
    "collapsed": true
   },
   "outputs": [],
   "source": []
  }
 ],
 "metadata": {
  "anaconda-cloud": {},
  "kernelspec": {
   "display_name": "Python [conda env:Anaconda3]",
   "language": "python",
   "name": "conda-env-Anaconda3-py"
  },
  "language_info": {
   "codemirror_mode": {
    "name": "ipython",
    "version": 3
   },
   "file_extension": ".py",
   "mimetype": "text/x-python",
   "name": "python",
   "nbconvert_exporter": "python",
   "pygments_lexer": "ipython3",
   "version": "3.5.2"
  }
 },
 "nbformat": 4,
 "nbformat_minor": 1
}
